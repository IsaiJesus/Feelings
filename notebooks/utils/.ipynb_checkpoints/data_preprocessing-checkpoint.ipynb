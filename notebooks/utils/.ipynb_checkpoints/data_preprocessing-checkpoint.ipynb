{
 "cells": [
  {
   "cell_type": "markdown",
   "id": "da29736f",
   "metadata": {},
   "source": [
    "En este archivo se crearán las funciones correspondientes para el preprocessing y creación de nuevas columnas para formar el nuevo DataFrame."
   ]
  },
  {
   "cell_type": "code",
   "execution_count": 1,
   "id": "f75aa779",
   "metadata": {},
   "outputs": [],
   "source": [
    "import numpy as np\n",
    "import pandas as pd\n",
    "\n",
    "import re\n",
    "from datetime import datetime"
   ]
  },
  {
   "cell_type": "code",
   "execution_count": 2,
   "id": "da292364",
   "metadata": {},
   "outputs": [],
   "source": [
    "%run \"C:/Users/isaij/Documents/Projects/Feelings/notebooks/utils/vars.ipynb\""
   ]
  },
  {
   "cell_type": "markdown",
   "id": "e254ece0",
   "metadata": {},
   "source": [
    "# Funciones para crear nuevas columnas y variables"
   ]
  },
  {
   "cell_type": "code",
   "execution_count": 3,
   "id": "0252e6b1",
   "metadata": {},
   "outputs": [],
   "source": [
    "# Del dataset original se necesitan extraer y convertir nuevas variables como el mes, día de la semana, etc.\n",
    "\n",
    "def extract_datetime_features(df):\n",
    "    # Convertir full_date a tipo datetime para extraer fácilmente el mes\n",
    "    df['full_date'] = pd.to_datetime(df['full_date'], errors='coerce')\n",
    "    \n",
    "    df['month'] = df['full_date'].dt.month\n",
    "    df['year'] = df['full_date'].dt.year\n",
    "    df['weekday'] = df['weekday'].map(weekday_map)\n",
    "    \n",
    "    return df"
   ]
  },
  {
   "cell_type": "code",
   "execution_count": 4,
   "id": "83af58ed",
   "metadata": {},
   "outputs": [],
   "source": [
    "# Convertir actividades a formato de lista\n",
    "\n",
    "def convert_activities_to_list(df):\n",
    "    df['activities'] = df['activities'].str.split(' \\| ')\n",
    "    \n",
    "    return df"
   ]
  },
  {
   "cell_type": "code",
   "execution_count": 5,
   "id": "dc691e46",
   "metadata": {},
   "outputs": [],
   "source": [
    "# A partir de los moods, se le asigna un número para la conversión a variable categórica ordinal\n",
    "# 0: Terrible, 1: Mal, 2: Meh, 3: Bien, 4: Increíble\n",
    "\n",
    "def create_mood_numeric_col(mood_col, moods_sorted=moods_sorted):\n",
    "    mapped_order = {mood: i for i, mood in enumerate(moods_sorted, start=0)}\n",
    "    df['mood_numeric'] = mood_col.map(mapped_order)\n",
    "    \n",
    "    return df"
   ]
  },
  {
   "cell_type": "code",
   "execution_count": 6,
   "id": "2999c38e",
   "metadata": {},
   "outputs": [],
   "source": [
    "def create_activities_count_col(activities_col):\n",
    "    df['activities_count'] = activities_col.apply(lambda x: len(x))\n",
    "    \n",
    "    return df"
   ]
  },
  {
   "cell_type": "code",
   "execution_count": 7,
   "id": "d516c088",
   "metadata": {},
   "outputs": [],
   "source": [
    "# Asigna una categoría ordinal a sleep_level a partir de la senación de sueño registrada en la lista de actividades\n",
    "def create_sleep_level_col(activities_col):\n",
    "    def get_sleep_level(activity):\n",
    "        for key, value in sleep_level.items():\n",
    "            if key in activity:\n",
    "                return value\n",
    "        return 3\n",
    "    \n",
    "    df['sleep_level'] = activities_col.apply(get_sleep_level)\n",
    "    \n",
    "    # En caso de no haber registros de sueño\n",
    "    df['sleep_level'].fillna(df['sleep_level'].mode().iloc[0], inplace=True)\n",
    "    \n",
    "    return df"
   ]
  },
  {
   "cell_type": "code",
   "execution_count": 8,
   "id": "b3caed55",
   "metadata": {},
   "outputs": [],
   "source": [
    "def create_count_activities_cols(df, vars_to_count=vars_to_count):\n",
    "    for var_name in vars_to_count:\n",
    "        # Obtener la lista de actividades usando globals()\n",
    "        target_activities = globals()[var_name]\n",
    "        \n",
    "        # Crear la columna contadora directamente\n",
    "        df[var_name] = df['activities'].apply(\n",
    "            lambda activities: sum(1 for a in activities if a in target_activities)\n",
    "        )\n",
    "        \n",
    "    return df"
   ]
  },
  {
   "cell_type": "code",
   "execution_count": 9,
   "id": "73e1a114",
   "metadata": {},
   "outputs": [],
   "source": [
    "# Debido a que algunos datos de \"time\", a pesar de estar visualmente correctos, tienen problemas al ser procesados\n",
    "\n",
    "def convert_time_to_decimal(time_col_name='time'):\n",
    "    def parse_time(hora_str):\n",
    "        if pd.isna(hora_str):\n",
    "            return None\n",
    "            \n",
    "        match = re.match(r'(\\d{1,2}):(\\d{2})\\s*(AM|PM)', str(hora_str).strip(), re.IGNORECASE)\n",
    "        if match:\n",
    "            hour = int(match.group(1))\n",
    "            minutes = int(match.group(2))\n",
    "            meridian = match.group(3).upper()\n",
    "            \n",
    "            # Convertir a formato 24 horas\n",
    "            if meridian == 'PM' and hour != 12:\n",
    "                hour += 12\n",
    "            elif meridian == 'AM' and hour == 12:\n",
    "                hour = 0\n",
    "            \n",
    "            # Convertir a decimal\n",
    "            return round(hour + minutes / 60, 2)\n",
    "        return None\n",
    "    \n",
    "    df[time_col_name] = df[time_col_name].apply(parse_time)\n",
    "    \n",
    "    return df"
   ]
  },
  {
   "cell_type": "code",
   "execution_count": 10,
   "id": "1bb15cf9",
   "metadata": {},
   "outputs": [],
   "source": [
    "# Aplicación del Multi-Hot Encoding para cada una de las actividades\n",
    "\n",
    "def create_multihot_encoding(df, unique_activities, activities_column='activities'):\n",
    "    # Crear mapeo de actividades a nombres de columnas\n",
    "    activity_to_col = {}\n",
    "    for activity in unique_activities:\n",
    "        col_name = activity.replace(' / ', '_').replace(' ', '_').lower()\n",
    "        activity_to_col[activity] = col_name\n",
    "    \n",
    "    # Crear lista de nombres de columnas ordenadas\n",
    "    column_names = list(activity_to_col.values())\n",
    "    \n",
    "    # Inicializar matriz con ceros\n",
    "    # Se hace con numpy ya que modificar un dataframe directamente da warning de fragmentación\n",
    "    data_matrix = np.zeros((len(df), len(column_names)), dtype=int)\n",
    "    \n",
    "    for row_idx, (idx, activities_str) in enumerate(df[activities_column].items()):\n",
    "        if activities_str is None or (isinstance(activities_str, list) and len(activities_str) == 0):\n",
    "            continue  # Mantener todos los 0s para filas vacías\n",
    "            \n",
    "        # Separar actividades y limpiar espacios\n",
    "        activities_list_current = [activity.strip() for activity in activities_str]\n",
    "        \n",
    "        # Marcar como 1 las actividades presentes\n",
    "        for activity in activities_list_current:\n",
    "            if activity in activity_to_col:\n",
    "                col_idx = column_names.index(activity_to_col[activity])\n",
    "                data_matrix[row_idx, col_idx] = 1\n",
    "            else:\n",
    "                print(f\"Actividad no reconocida en fila {idx}: '{activity}'\")\n",
    "    \n",
    "    # Crear DataFrame de una vez con toda la data\n",
    "    multihot_df = pd.DataFrame(data_matrix, \n",
    "                              columns=column_names, \n",
    "                              index=df.index)\n",
    "    \n",
    "    return multihot_df"
   ]
  },
  {
   "cell_type": "markdown",
   "id": "42b9087a",
   "metadata": {},
   "source": [
    "# Funciones para apoyo de visualizaciones"
   ]
  },
  {
   "cell_type": "code",
   "execution_count": 11,
   "id": "6573fc11",
   "metadata": {},
   "outputs": [],
   "source": [
    "# A partir de los moods se le asigna un color para la visualización\n",
    "\n",
    "def create_mood_colors_col(mood_col, mood_data=mood_data):\n",
    "    # Columna para asignar colores en base al mood\n",
    "    df['colors'] = mood_col.map(mood_data)\n",
    "    \n",
    "    return df"
   ]
  },
  {
   "cell_type": "code",
   "execution_count": null,
   "id": "f8ee02d3",
   "metadata": {},
   "outputs": [],
   "source": []
  }
 ],
 "metadata": {
  "kernelspec": {
   "display_name": "Python 3 (ipykernel)",
   "language": "python",
   "name": "python3"
  },
  "language_info": {
   "codemirror_mode": {
    "name": "ipython",
    "version": 3
   },
   "file_extension": ".py",
   "mimetype": "text/x-python",
   "name": "python",
   "nbconvert_exporter": "python",
   "pygments_lexer": "ipython3",
   "version": "3.11.7"
  }
 },
 "nbformat": 4,
 "nbformat_minor": 5
}
