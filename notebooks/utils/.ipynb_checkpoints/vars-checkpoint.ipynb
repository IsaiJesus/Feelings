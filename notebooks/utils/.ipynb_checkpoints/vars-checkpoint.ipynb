{
 "cells": [
  {
   "cell_type": "markdown",
   "id": "8d89bf1e",
   "metadata": {},
   "source": [
    "En este archivo se crearán las variables que se pueden utilizar a lo largo del notebook principal u otros notebooks de utils."
   ]
  },
  {
   "cell_type": "code",
   "execution_count": 1,
   "id": "2147a9d1",
   "metadata": {},
   "outputs": [],
   "source": [
    "import numpy as np\n",
    "import pandas as pd"
   ]
  },
  {
   "cell_type": "code",
   "execution_count": 2,
   "id": "75542b0d",
   "metadata": {},
   "outputs": [],
   "source": [
    "# Todas las actividades en el dataset\n",
    "\n",
    "def get_activities(activities_col):\n",
    "    # Set para evitar duplicados\n",
    "    unique_activities = set()\n",
    "    activities_col.apply(lambda x: unique_activities.update([activity.strip() for activity in x]))\n",
    "    unique_activities = list(unique_activities)\n",
    "    \n",
    "    return unique_activities"
   ]
  },
  {
   "cell_type": "code",
   "execution_count": 3,
   "id": "b8294f6a",
   "metadata": {},
   "outputs": [],
   "source": [
    "weekday_map = {\n",
    "    'Monday': 0,\n",
    "    'Tuesday': 1,\n",
    "    'Wednesday': 2,\n",
    "    'Thursday': 3,\n",
    "    'Friday': 4,\n",
    "    'Saturday': 5,\n",
    "    'Sunday': 6\n",
    "}\n",
    "\n",
    "days_order = ['Lunes', 'Martes', 'Miércoles', 'Jueves', 'Viernes', 'Sábado', 'Domingo']\n",
    "\n",
    "numeric_to_spanish = {\n",
    "    0: 'Lunes',\n",
    "    1: 'Martes',\n",
    "    2: 'Miércoles',\n",
    "    3: 'Jueves',\n",
    "    4: 'Viernes',\n",
    "    5: 'Sábado',\n",
    "    6: 'Domingo'\n",
    "}"
   ]
  },
  {
   "cell_type": "code",
   "execution_count": 4,
   "id": "fcfc4009",
   "metadata": {},
   "outputs": [],
   "source": [
    "# Asignar un color a cada tipo de emoción\n",
    "\n",
    "mood_data = {\n",
    "    'Horrible': 'crimson',\n",
    "    'Mal': 'orange',\n",
    "    'Meh': 'skyblue',\n",
    "    'Bien': 'limegreen',\n",
    "    'Increíble': 'turquoise'\n",
    "}\n",
    "\n",
    "moods_sorted = list(mood_data.keys())"
   ]
  },
  {
   "cell_type": "code",
   "execution_count": 5,
   "id": "94978cf0",
   "metadata": {},
   "outputs": [],
   "source": [
    "sleep_level = {\n",
    "    'Sin dormir': 0,\n",
    "    'Sueño malo': 1,\n",
    "    'Sueño medio': 2,\n",
    "    'Buen sueño': 3,\n",
    "    'Sueño temprano': 4\n",
    "}"
   ]
  },
  {
   "cell_type": "code",
   "execution_count": 6,
   "id": "4e3802b9",
   "metadata": {},
   "outputs": [],
   "source": [
    "# Lista de actividades para encoding\n",
    "\n",
    "emotions = [\n",
    "    \"Feliz\", \"Emocionado\", \"Enamorado\", \"Relajado\", \"Contento\", \"Cansado\", \"Inseguro\", \"Aburrido\", \"Ansioso\",\n",
    "    \"Procrastinar\", \"Enojado\", \"Estresado\", \"Triste\", \"Desesperado\", \"Productivo\", \"Ocupado\", \"Confundido\", \n",
    "    \"Motivado\", \"Decepcionado\" ,\"Enfermo\", \"Desmotivado\", \"Miedo\", \"Pensativo\", \"Preocupado\", \"Nostálgico\"\n",
    "]\n",
    "\n",
    "health = [\n",
    "    \"Ejercicio\", \"Comer sano\", \"Agua\", \"Correr / Cardio\", \"Doctor\", \"Haircut\", \"Skin care\", \"Protector solar\", \"Bicicleta\"\n",
    "]\n",
    "\n",
    "productivity = [\n",
    "    \"Lectura\", \"Entretenimiento\", \"Iniciar temprano\", \"Enfocado\", \"Inglés\", \"IA & Data\", \"Algoritmos\", \n",
    "    \"Reunión\", \"Proyecto\"\n",
    "]\n",
    "\n",
    "places = [\"Visita\", \"Salida\", \"Viaje\", \"Vacaciones\", \"Competencia\", \"Evento\"]\n",
    "\n",
    "tasks = [\"Compras\", \"Limpiar\", \"Cocinar\", \"Hacer deberes\"]\n",
    "\n",
    "school = [\"Clase\", \"Estudio\", \"Tarea\", \"Examen\", \"Proyecto grupal\", \"Clases completas\"]"
   ]
  },
  {
   "cell_type": "code",
   "execution_count": 7,
   "id": "ced2ea51",
   "metadata": {},
   "outputs": [],
   "source": [
    "# Separar en positive emotions, negative emotions y neutral_emotions\n",
    "\n",
    "positive_emotions = [\n",
    "    \"Feliz\", \"Emocionado\", \"Enamorado\", \"Relajado\", \"Contento\", \"Productivo\", \"Motivado\"\n",
    "]\n",
    "\n",
    "neutral_emotions = [\"Ocupado\", \"Pensativo\", \"Cansado\", \"Nostálgico\"]\n",
    "\n",
    "negative_emotions = [\n",
    "    \"Confundido\", \"Inseguro\", \"Aburrido\", \"Ansioso\", \"Procrastinar\", \"Enojado\", \"Estresado\", \"Triste\", \n",
    "    \"Desesperado\", \"Decepcionado\", \"Enfermo\", \"Desmotivado\", \"Miedo\",  \"Preocupado\"\n",
    "]"
   ]
  },
  {
   "cell_type": "code",
   "execution_count": 8,
   "id": "954c2c11",
   "metadata": {},
   "outputs": [],
   "source": [
    "vars_to_count = [\n",
    "    'emotions', 'health', 'productivity', 'places', 'tasks', 'school',\n",
    "    'positive_emotions', 'neutral_emotions', 'negative_emotions'\n",
    "]"
   ]
  },
  {
   "cell_type": "code",
   "execution_count": null,
   "id": "dc2908e7",
   "metadata": {},
   "outputs": [],
   "source": []
  }
 ],
 "metadata": {
  "kernelspec": {
   "display_name": "Python 3 (ipykernel)",
   "language": "python",
   "name": "python3"
  },
  "language_info": {
   "codemirror_mode": {
    "name": "ipython",
    "version": 3
   },
   "file_extension": ".py",
   "mimetype": "text/x-python",
   "name": "python",
   "nbconvert_exporter": "python",
   "pygments_lexer": "ipython3",
   "version": "3.11.7"
  }
 },
 "nbformat": 4,
 "nbformat_minor": 5
}
