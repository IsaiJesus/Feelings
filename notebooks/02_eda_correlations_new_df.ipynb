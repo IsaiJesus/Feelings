{
 "cells": [
  {
   "cell_type": "markdown",
   "id": "8deba99c",
   "metadata": {},
   "source": [
    "# Exploratory Data Analysis & Correlations (new dataset)"
   ]
  },
  {
   "cell_type": "markdown",
   "id": "5e9a35e1",
   "metadata": {},
   "source": [
    "En este notebook, se hará un nuevo análisis considerando ahora el nuevo dataset creado a partir del original, además de ver las correlaciones objetivo del proyecto con diferentes tipos de variables.\n",
    "Algunas de ellas son `mood_numeric`, `activities_count`, `sleep_level`, `health`, `productivity`, `tasks`, `school`, `emotions`, `positive_emotions`,`neutral_emotions`, `negative_emotions` y posiblemente las columnas resultantes del multi-hot encoding.   "
   ]
  },
  {
   "cell_type": "code",
   "execution_count": 1,
   "id": "632eed11",
   "metadata": {},
   "outputs": [],
   "source": [
    "import pandas as pd\n",
    "import numpy as np\n",
    "import matplotlib.pyplot as plt\n",
    "import seaborn as sns"
   ]
  },
  {
   "cell_type": "code",
   "execution_count": 3,
   "id": "6f94e5ba",
   "metadata": {},
   "outputs": [],
   "source": [
    "df = pd.read_csv('../data/processed/moods_2024_2025.csv')"
   ]
  },
  {
   "cell_type": "code",
   "execution_count": 4,
   "id": "ad1467d4",
   "metadata": {},
   "outputs": [
    {
     "data": {
      "text/plain": [
       "Index(['full_date', 'weekday', 'time', 'mood', 'activities', 'month', 'year',\n",
       "       'mood_numeric', 'activities_count', 'sleep_level', 'emotions', 'health',\n",
       "       'productivity', 'places', 'tasks', 'school', 'positive_emotions',\n",
       "       'neutral_emotions', 'negative_emotions', 'reunión', 'ia_&_data',\n",
       "       'algoritmos', 'evento', 'enamorado', 'contento', 'enfocado', 'agua',\n",
       "       'sueño_temprano', 'nostálgico', 'visita', 'procrastinar', 'pensativo',\n",
       "       'ansioso', 'sueño_medio', 'correr_cardio', 'buen_sueño', 'emocionado',\n",
       "       'bicicleta', 'ejercicio', 'inglés', 'comer_sano', 'desesperado',\n",
       "       'triste', 'enojado', 'confundido', 'sueño_malo', 'productivo',\n",
       "       'protector_solar', 'clase', 'proyecto_grupal', 'estresado', 'inseguro',\n",
       "       'compras', 'preocupado', 'decepcionado', 'iniciar_temprano', 'lectura',\n",
       "       'haircut', 'aburrido', 'competencia', 'relajado', 'vacaciones', 'feliz',\n",
       "       'skin_care', 'clases_completas', 'desmotivado', 'motivado', 'proyecto',\n",
       "       'tarea', 'doctor', 'limpiar', 'ocupado', 'examen', 'sin_dormir',\n",
       "       'cocinar', 'salida', 'cansado', 'entretenimiento', 'enfermo', 'viaje',\n",
       "       'estudio', 'hacer_deberes', 'miedo'],\n",
       "      dtype='object')"
      ]
     },
     "execution_count": 4,
     "metadata": {},
     "output_type": "execute_result"
    }
   ],
   "source": [
    "df.columns"
   ]
  },
  {
   "cell_type": "code",
   "execution_count": 5,
   "id": "55a84960",
   "metadata": {},
   "outputs": [
    {
     "name": "stdout",
     "output_type": "stream",
     "text": [
      "<class 'pandas.core.frame.DataFrame'>\n",
      "RangeIndex: 457 entries, 0 to 456\n",
      "Data columns (total 83 columns):\n",
      " #   Column             Non-Null Count  Dtype  \n",
      "---  ------             --------------  -----  \n",
      " 0   full_date          457 non-null    object \n",
      " 1   weekday            457 non-null    int64  \n",
      " 2   time               457 non-null    float64\n",
      " 3   mood               457 non-null    object \n",
      " 4   activities         457 non-null    object \n",
      " 5   month              457 non-null    int64  \n",
      " 6   year               457 non-null    int64  \n",
      " 7   mood_numeric       457 non-null    int64  \n",
      " 8   activities_count   457 non-null    int64  \n",
      " 9   sleep_level        457 non-null    int64  \n",
      " 10  emotions           457 non-null    int64  \n",
      " 11  health             457 non-null    int64  \n",
      " 12  productivity       457 non-null    int64  \n",
      " 13  places             457 non-null    int64  \n",
      " 14  tasks              457 non-null    int64  \n",
      " 15  school             457 non-null    int64  \n",
      " 16  positive_emotions  457 non-null    int64  \n",
      " 17  neutral_emotions   457 non-null    int64  \n",
      " 18  negative_emotions  457 non-null    int64  \n",
      " 19  reunión            457 non-null    int64  \n",
      " 20  ia_&_data          457 non-null    int64  \n",
      " 21  algoritmos         457 non-null    int64  \n",
      " 22  evento             457 non-null    int64  \n",
      " 23  enamorado          457 non-null    int64  \n",
      " 24  contento           457 non-null    int64  \n",
      " 25  enfocado           457 non-null    int64  \n",
      " 26  agua               457 non-null    int64  \n",
      " 27  sueño_temprano     457 non-null    int64  \n",
      " 28  nostálgico         457 non-null    int64  \n",
      " 29  visita             457 non-null    int64  \n",
      " 30  procrastinar       457 non-null    int64  \n",
      " 31  pensativo          457 non-null    int64  \n",
      " 32  ansioso            457 non-null    int64  \n",
      " 33  sueño_medio        457 non-null    int64  \n",
      " 34  correr_cardio      457 non-null    int64  \n",
      " 35  buen_sueño         457 non-null    int64  \n",
      " 36  emocionado         457 non-null    int64  \n",
      " 37  bicicleta          457 non-null    int64  \n",
      " 38  ejercicio          457 non-null    int64  \n",
      " 39  inglés             457 non-null    int64  \n",
      " 40  comer_sano         457 non-null    int64  \n",
      " 41  desesperado        457 non-null    int64  \n",
      " 42  triste             457 non-null    int64  \n",
      " 43  enojado            457 non-null    int64  \n",
      " 44  confundido         457 non-null    int64  \n",
      " 45  sueño_malo         457 non-null    int64  \n",
      " 46  productivo         457 non-null    int64  \n",
      " 47  protector_solar    457 non-null    int64  \n",
      " 48  clase              457 non-null    int64  \n",
      " 49  proyecto_grupal    457 non-null    int64  \n",
      " 50  estresado          457 non-null    int64  \n",
      " 51  inseguro           457 non-null    int64  \n",
      " 52  compras            457 non-null    int64  \n",
      " 53  preocupado         457 non-null    int64  \n",
      " 54  decepcionado       457 non-null    int64  \n",
      " 55  iniciar_temprano   457 non-null    int64  \n",
      " 56  lectura            457 non-null    int64  \n",
      " 57  haircut            457 non-null    int64  \n",
      " 58  aburrido           457 non-null    int64  \n",
      " 59  competencia        457 non-null    int64  \n",
      " 60  relajado           457 non-null    int64  \n",
      " 61  vacaciones         457 non-null    int64  \n",
      " 62  feliz              457 non-null    int64  \n",
      " 63  skin_care          457 non-null    int64  \n",
      " 64  clases_completas   457 non-null    int64  \n",
      " 65  desmotivado        457 non-null    int64  \n",
      " 66  motivado           457 non-null    int64  \n",
      " 67  proyecto           457 non-null    int64  \n",
      " 68  tarea              457 non-null    int64  \n",
      " 69  doctor             457 non-null    int64  \n",
      " 70  limpiar            457 non-null    int64  \n",
      " 71  ocupado            457 non-null    int64  \n",
      " 72  examen             457 non-null    int64  \n",
      " 73  sin_dormir         457 non-null    int64  \n",
      " 74  cocinar            457 non-null    int64  \n",
      " 75  salida             457 non-null    int64  \n",
      " 76  cansado            457 non-null    int64  \n",
      " 77  entretenimiento    457 non-null    int64  \n",
      " 78  enfermo            457 non-null    int64  \n",
      " 79  viaje              457 non-null    int64  \n",
      " 80  estudio            457 non-null    int64  \n",
      " 81  hacer_deberes      457 non-null    int64  \n",
      " 82  miedo              457 non-null    int64  \n",
      "dtypes: float64(1), int64(79), object(3)\n",
      "memory usage: 296.5+ KB\n"
     ]
    }
   ],
   "source": [
    "df.info()"
   ]
  },
  {
   "cell_type": "code",
   "execution_count": 6,
   "id": "10641258",
   "metadata": {},
   "outputs": [
    {
     "data": {
      "text/html": [
       "<div>\n",
       "<style scoped>\n",
       "    .dataframe tbody tr th:only-of-type {\n",
       "        vertical-align: middle;\n",
       "    }\n",
       "\n",
       "    .dataframe tbody tr th {\n",
       "        vertical-align: top;\n",
       "    }\n",
       "\n",
       "    .dataframe thead th {\n",
       "        text-align: right;\n",
       "    }\n",
       "</style>\n",
       "<table border=\"1\" class=\"dataframe\">\n",
       "  <thead>\n",
       "    <tr style=\"text-align: right;\">\n",
       "      <th></th>\n",
       "      <th>full_date</th>\n",
       "      <th>weekday</th>\n",
       "      <th>time</th>\n",
       "      <th>mood</th>\n",
       "      <th>activities</th>\n",
       "      <th>month</th>\n",
       "      <th>year</th>\n",
       "      <th>mood_numeric</th>\n",
       "      <th>activities_count</th>\n",
       "      <th>sleep_level</th>\n",
       "      <th>...</th>\n",
       "      <th>sin_dormir</th>\n",
       "      <th>cocinar</th>\n",
       "      <th>salida</th>\n",
       "      <th>cansado</th>\n",
       "      <th>entretenimiento</th>\n",
       "      <th>enfermo</th>\n",
       "      <th>viaje</th>\n",
       "      <th>estudio</th>\n",
       "      <th>hacer_deberes</th>\n",
       "      <th>miedo</th>\n",
       "    </tr>\n",
       "  </thead>\n",
       "  <tbody>\n",
       "    <tr>\n",
       "      <th>0</th>\n",
       "      <td>2025-06-23</td>\n",
       "      <td>0</td>\n",
       "      <td>22.75</td>\n",
       "      <td>Bien</td>\n",
       "      <td>['Buen sueño', 'Relajado', 'Contento', 'Produc...</td>\n",
       "      <td>6</td>\n",
       "      <td>2025</td>\n",
       "      <td>3</td>\n",
       "      <td>10</td>\n",
       "      <td>3</td>\n",
       "      <td>...</td>\n",
       "      <td>0</td>\n",
       "      <td>0</td>\n",
       "      <td>0</td>\n",
       "      <td>0</td>\n",
       "      <td>0</td>\n",
       "      <td>0</td>\n",
       "      <td>0</td>\n",
       "      <td>0</td>\n",
       "      <td>0</td>\n",
       "      <td>0</td>\n",
       "    </tr>\n",
       "    <tr>\n",
       "      <th>1</th>\n",
       "      <td>2025-06-20</td>\n",
       "      <td>4</td>\n",
       "      <td>13.53</td>\n",
       "      <td>Mal</td>\n",
       "      <td>['Buen sueño', 'Cansado', 'Aburrido', 'Enfermo']</td>\n",
       "      <td>6</td>\n",
       "      <td>2025</td>\n",
       "      <td>1</td>\n",
       "      <td>4</td>\n",
       "      <td>3</td>\n",
       "      <td>...</td>\n",
       "      <td>0</td>\n",
       "      <td>0</td>\n",
       "      <td>0</td>\n",
       "      <td>1</td>\n",
       "      <td>0</td>\n",
       "      <td>1</td>\n",
       "      <td>0</td>\n",
       "      <td>0</td>\n",
       "      <td>0</td>\n",
       "      <td>0</td>\n",
       "    </tr>\n",
       "    <tr>\n",
       "      <th>2</th>\n",
       "      <td>2025-06-19</td>\n",
       "      <td>3</td>\n",
       "      <td>22.75</td>\n",
       "      <td>Increíble</td>\n",
       "      <td>['Buen sueño', 'Feliz', 'Enamorado', 'Contento...</td>\n",
       "      <td>6</td>\n",
       "      <td>2025</td>\n",
       "      <td>4</td>\n",
       "      <td>8</td>\n",
       "      <td>3</td>\n",
       "      <td>...</td>\n",
       "      <td>0</td>\n",
       "      <td>0</td>\n",
       "      <td>1</td>\n",
       "      <td>1</td>\n",
       "      <td>0</td>\n",
       "      <td>1</td>\n",
       "      <td>0</td>\n",
       "      <td>0</td>\n",
       "      <td>0</td>\n",
       "      <td>0</td>\n",
       "    </tr>\n",
       "  </tbody>\n",
       "</table>\n",
       "<p>3 rows × 83 columns</p>\n",
       "</div>"
      ],
      "text/plain": [
       "    full_date  weekday   time       mood  \\\n",
       "0  2025-06-23        0  22.75       Bien   \n",
       "1  2025-06-20        4  13.53        Mal   \n",
       "2  2025-06-19        3  22.75  Increíble   \n",
       "\n",
       "                                          activities  month  year  \\\n",
       "0  ['Buen sueño', 'Relajado', 'Contento', 'Produc...      6  2025   \n",
       "1   ['Buen sueño', 'Cansado', 'Aburrido', 'Enfermo']      6  2025   \n",
       "2  ['Buen sueño', 'Feliz', 'Enamorado', 'Contento...      6  2025   \n",
       "\n",
       "   mood_numeric  activities_count  sleep_level  ...  sin_dormir  cocinar  \\\n",
       "0             3                10            3  ...           0        0   \n",
       "1             1                 4            3  ...           0        0   \n",
       "2             4                 8            3  ...           0        0   \n",
       "\n",
       "   salida  cansado  entretenimiento  enfermo  viaje  estudio  hacer_deberes  \\\n",
       "0       0        0                0        0      0        0              0   \n",
       "1       0        1                0        1      0        0              0   \n",
       "2       1        1                0        1      0        0              0   \n",
       "\n",
       "   miedo  \n",
       "0      0  \n",
       "1      0  \n",
       "2      0  \n",
       "\n",
       "[3 rows x 83 columns]"
      ]
     },
     "execution_count": 6,
     "metadata": {},
     "output_type": "execute_result"
    }
   ],
   "source": [
    "df.head(3)"
   ]
  },
  {
   "cell_type": "markdown",
   "id": "2017e022",
   "metadata": {},
   "source": [
    "## Exploratory Data Analysis"
   ]
  },
  {
   "cell_type": "markdown",
   "id": "49d459f3",
   "metadata": {},
   "source": [
    "### sleep_level"
   ]
  },
  {
   "cell_type": "code",
   "execution_count": null,
   "id": "151ac088",
   "metadata": {},
   "outputs": [],
   "source": []
  },
  {
   "cell_type": "code",
   "execution_count": null,
   "id": "d7d00588",
   "metadata": {},
   "outputs": [],
   "source": []
  },
  {
   "cell_type": "code",
   "execution_count": null,
   "id": "6591c5ca",
   "metadata": {},
   "outputs": [],
   "source": []
  },
  {
   "cell_type": "code",
   "execution_count": null,
   "id": "02b60789",
   "metadata": {},
   "outputs": [],
   "source": []
  },
  {
   "cell_type": "code",
   "execution_count": null,
   "id": "e94394ff",
   "metadata": {},
   "outputs": [],
   "source": []
  },
  {
   "cell_type": "markdown",
   "id": "576fb9c7",
   "metadata": {},
   "source": [
    "### emotions, positive_emotions, neutral_emotions, negative_emotions"
   ]
  },
  {
   "cell_type": "markdown",
   "id": "26935c49",
   "metadata": {},
   "source": [
    "### productivity"
   ]
  },
  {
   "cell_type": "markdown",
   "id": "6dd49e83",
   "metadata": {},
   "source": [
    "### Activities more frequently"
   ]
  },
  {
   "cell_type": "markdown",
   "id": "779c8857",
   "metadata": {},
   "source": [
    "## Correlations"
   ]
  },
  {
   "cell_type": "code",
   "execution_count": null,
   "id": "36c50f28",
   "metadata": {},
   "outputs": [],
   "source": []
  }
 ],
 "metadata": {
  "kernelspec": {
   "display_name": "Python 3 (ipykernel)",
   "language": "python",
   "name": "python3"
  },
  "language_info": {
   "codemirror_mode": {
    "name": "ipython",
    "version": 3
   },
   "file_extension": ".py",
   "mimetype": "text/x-python",
   "name": "python",
   "nbconvert_exporter": "python",
   "pygments_lexer": "ipython3",
   "version": "3.11.7"
  }
 },
 "nbformat": 4,
 "nbformat_minor": 5
}
