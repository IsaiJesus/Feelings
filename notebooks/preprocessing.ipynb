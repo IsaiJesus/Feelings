{
 "cells": [
  {
   "cell_type": "code",
   "execution_count": 1,
   "id": "07244170",
   "metadata": {},
   "outputs": [],
   "source": [
    "import numpy as np\n",
    "import pandas as pd\n",
    "import matplotlib.pyplot as plt"
   ]
  },
  {
   "cell_type": "code",
   "execution_count": 3,
   "id": "ff9eecc3",
   "metadata": {},
   "outputs": [],
   "source": [
    "df = pd.read_csv('../data/processed/moods_2024.csv')"
   ]
  },
  {
   "cell_type": "code",
   "execution_count": 6,
   "id": "2d7cf62f",
   "metadata": {},
   "outputs": [
    {
     "data": {
      "text/plain": [
       "['Correr / Cardio',\n",
       " 'Clases completas',\n",
       " 'Productivo',\n",
       " 'Motivado',\n",
       " 'Hacer deberes',\n",
       " 'Proyecto grupal',\n",
       " 'Lectura',\n",
       " 'Enamorado',\n",
       " 'Agua',\n",
       " 'Sin dormir',\n",
       " 'Compras',\n",
       " 'Clase',\n",
       " 'Sueño temprano',\n",
       " 'Contento',\n",
       " 'Enojado',\n",
       " 'Relajado',\n",
       " 'Nostálgico',\n",
       " 'Algoritmos',\n",
       " 'Haircut',\n",
       " 'Ansioso',\n",
       " 'Visita',\n",
       " 'Pensativo',\n",
       " 'Skin care',\n",
       " 'Viaje',\n",
       " 'Feliz',\n",
       " 'Entretenimiento',\n",
       " 'Inseguro',\n",
       " 'Cansado',\n",
       " 'Competencia',\n",
       " 'Proyecto',\n",
       " 'Enfermo',\n",
       " 'Inglés',\n",
       " 'Sueño medio',\n",
       " 'Examen',\n",
       " 'Confundido',\n",
       " 'Sueño malo',\n",
       " 'Evento',\n",
       " 'Decepcionado',\n",
       " 'IA & Data',\n",
       " 'Estudio',\n",
       " 'Buen sueño',\n",
       " 'Preocupado',\n",
       " 'Comer sano',\n",
       " 'Ocupado',\n",
       " 'Vacaciones',\n",
       " 'Tarea',\n",
       " 'Cocinar',\n",
       " 'Reunión',\n",
       " 'Iniciar temprano',\n",
       " 'Procrastinar',\n",
       " 'Ejercicio',\n",
       " 'Desmotivado',\n",
       " 'Salida',\n",
       " 'Protector solar',\n",
       " 'Limpiar',\n",
       " 'Enfocado',\n",
       " 'Desesperado',\n",
       " 'Miedo',\n",
       " 'Triste',\n",
       " 'Emocionado',\n",
       " 'Aburrido',\n",
       " 'Estresado',\n",
       " 'Doctor']"
      ]
     },
     "execution_count": 6,
     "metadata": {},
     "output_type": "execute_result"
    }
   ],
   "source": [
    "# Actividades\n",
    "\n",
    "activities = set()\n",
    "df['activities'].str.split('|').apply(lambda x: activities.update([activity.strip() for activity in x]))\n",
    "activities = list(activities)\n",
    "activities"
   ]
  },
  {
   "cell_type": "code",
   "execution_count": 7,
   "id": "b9a179c2",
   "metadata": {},
   "outputs": [
    {
     "data": {
      "text/plain": [
       "63"
      ]
     },
     "execution_count": 7,
     "metadata": {},
     "output_type": "execute_result"
    }
   ],
   "source": [
    "len(activities)"
   ]
  },
  {
   "cell_type": "code",
   "execution_count": 8,
   "id": "3f4664dc",
   "metadata": {},
   "outputs": [],
   "source": [
    "sleep_level = [\"Buen sueño\", \"Sueño medio\", \"Sueño malo\", \"Sueño temprano\", \"Sin dormir\"]\n",
    "\n",
    "# Separar en good emotions & bad emotions\n",
    "emotions = [\n",
    "    \"Feliz\", \"Emocionado\", \"Enamorado\", \"Relajado\", \"Contento\", \"Cansado\", \"Inseguro\", \"Aburrido\", \"Ansioso\",\n",
    "    \"Procrastinar\", \"Enojado\", \"Estresado\", \"Triste\", \"Desesperado\", \"Productivo\", \"Ocupado\", \"Confundido\", \n",
    "    \"Motivado\", \"Decepcionado\" ,\"Enfermo\", \"Desmotivado\", \"Miedo\", \"Pensativo\", \"Preocupado\", \"Nostálgico\"\n",
    "]\n",
    "\n",
    "health = [\n",
    "    \"Ejercicio\", \"Comer sano\", \"Agua\", \"Correr / Cardio\", \"Doctor\", \"Haircut\", \"Skin care\", \"Protector solar\"\n",
    "]\n",
    "\n",
    "productivity = [\n",
    "    \"Lectura\", \"Entretenimiento\", \"Iniciar temprano\", \"Enfocado\", \"Inglés\", \"IA & Data\", \"Algoritmos\", \n",
    "    \"Reunión\", \"Proyecto\"\n",
    "]\n",
    "\n",
    "places = [\"Visita\", \"Salida\", \"Viaje\", \"Vacaciones\", \"Competencia\", \"Evento\"]\n",
    "\n",
    "tasks = [\"Compras\", \"Limpiar\", \"Cocinar\", \"Hacer deberes\"]\n",
    "\n",
    "school = [\"Clase\", \"Estudio\", \"Tarea\", \"Examen\", \"Proyecto grupal\", \"Clases completas\"]"
   ]
  },
  {
   "cell_type": "markdown",
   "id": "c13f37e7",
   "metadata": {},
   "source": [
    "Para los casos de sleep_level podría ser un dato categórico ordinal (0 Sin dormir a 4 Buen sueño).\n",
    "Para el caso de health y productivity podría ser un dato igualmente caetgórico de Frecuency encoding o Hot-Encoding."
   ]
  },
  {
   "cell_type": "code",
   "execution_count": null,
   "id": "ba0cb9a1",
   "metadata": {},
   "outputs": [],
   "source": []
  }
 ],
 "metadata": {
  "kernelspec": {
   "display_name": "Python 3 (ipykernel)",
   "language": "python",
   "name": "python3"
  },
  "language_info": {
   "codemirror_mode": {
    "name": "ipython",
    "version": 3
   },
   "file_extension": ".py",
   "mimetype": "text/x-python",
   "name": "python",
   "nbconvert_exporter": "python",
   "pygments_lexer": "ipython3",
   "version": "3.11.7"
  }
 },
 "nbformat": 4,
 "nbformat_minor": 5
}
